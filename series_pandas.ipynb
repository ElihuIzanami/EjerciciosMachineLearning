{
 "cells": [
  {
   "cell_type": "code",
   "execution_count": 1,
   "id": "0f7dcd1f",
   "metadata": {},
   "outputs": [],
   "source": [
    "import numpy as np\n",
    "import pandas as pd"
   ]
  },
  {
   "cell_type": "code",
   "execution_count": 2,
   "id": "e5528f4f",
   "metadata": {},
   "outputs": [
    {
     "data": {
      "text/plain": [
       "a    1\n",
       "b    2\n",
       "c    3\n",
       "dtype: int64"
      ]
     },
     "execution_count": 2,
     "metadata": {},
     "output_type": "execute_result"
    }
   ],
   "source": [
    "etiquetas =  ['a','b','c']\n",
    "datos = [1,2,3]\n",
    "pd.Series(data = datos, index = etiquetas)"
   ]
  },
  {
   "cell_type": "code",
   "execution_count": 9,
   "id": "189be8df",
   "metadata": {},
   "outputs": [],
   "source": [
    "array = np.arange(5,8)\n",
    "etiquetas = ['venta1','venta2','venta3']\n",
    "serie1 = pd.Series(array,etiquetas)"
   ]
  },
  {
   "cell_type": "code",
   "execution_count": 10,
   "id": "97d07789",
   "metadata": {},
   "outputs": [
    {
     "data": {
      "text/plain": [
       "venta1    5\n",
       "venta2    6\n",
       "venta3    7\n",
       "dtype: int32"
      ]
     },
     "execution_count": 10,
     "metadata": {},
     "output_type": "execute_result"
    }
   ],
   "source": [
    "serie1"
   ]
  },
  {
   "cell_type": "code",
   "execution_count": 12,
   "id": "ba4047e0",
   "metadata": {},
   "outputs": [
    {
     "data": {
      "text/plain": [
       "6"
      ]
     },
     "execution_count": 12,
     "metadata": {},
     "output_type": "execute_result"
    }
   ],
   "source": [
    "serie1['venta2']"
   ]
  },
  {
   "cell_type": "code",
   "execution_count": 13,
   "id": "d0059c96",
   "metadata": {},
   "outputs": [
    {
     "data": {
      "text/plain": [
       "7"
      ]
     },
     "execution_count": 13,
     "metadata": {},
     "output_type": "execute_result"
    }
   ],
   "source": [
    "serie1[2]"
   ]
  },
  {
   "cell_type": "code",
   "execution_count": 14,
   "id": "99811ed4",
   "metadata": {},
   "outputs": [],
   "source": [
    "datos2 = ['informatica',300,'impresora',400]"
   ]
  },
  {
   "cell_type": "code",
   "execution_count": 16,
   "id": "f3913b6d",
   "metadata": {},
   "outputs": [
    {
     "data": {
      "text/plain": [
       "0    informatica\n",
       "1            300\n",
       "2      impresora\n",
       "3            400\n",
       "dtype: object"
      ]
     },
     "execution_count": 16,
     "metadata": {},
     "output_type": "execute_result"
    }
   ],
   "source": [
    "pd.Series(datos2)"
   ]
  },
  {
   "cell_type": "code",
   "execution_count": 20,
   "id": "4944d8fb",
   "metadata": {},
   "outputs": [],
   "source": [
    "serie1 = pd.Series([1,2,3,4],['ventas1','ventas2','ventas3','ventas4'])\n",
    "serie2 = pd.Series([4,8,5],['ventas1','ventas2','ventas3'])"
   ]
  },
  {
   "cell_type": "code",
   "execution_count": 21,
   "id": "dba4f927",
   "metadata": {},
   "outputs": [
    {
     "data": {
      "text/plain": [
       "ventas1     5.0\n",
       "ventas2    10.0\n",
       "ventas3     8.0\n",
       "ventas4     NaN\n",
       "dtype: float64"
      ]
     },
     "execution_count": 21,
     "metadata": {},
     "output_type": "execute_result"
    }
   ],
   "source": [
    "serie_suma = serie1 + serie2\n",
    "serie_suma"
   ]
  },
  {
   "cell_type": "code",
   "execution_count": null,
   "id": "8b57e6c3",
   "metadata": {},
   "outputs": [],
   "source": []
  }
 ],
 "metadata": {
  "kernelspec": {
   "display_name": "Python 3",
   "language": "python",
   "name": "python3"
  },
  "language_info": {
   "codemirror_mode": {
    "name": "ipython",
    "version": 3
   },
   "file_extension": ".py",
   "mimetype": "text/x-python",
   "name": "python",
   "nbconvert_exporter": "python",
   "pygments_lexer": "ipython3",
   "version": "3.8.8"
  }
 },
 "nbformat": 4,
 "nbformat_minor": 5
}
