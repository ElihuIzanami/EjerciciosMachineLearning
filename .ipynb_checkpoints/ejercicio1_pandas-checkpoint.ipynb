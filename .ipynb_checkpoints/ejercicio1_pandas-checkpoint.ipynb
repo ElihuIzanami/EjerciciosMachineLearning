{
 "cells": [
  {
   "cell_type": "code",
   "execution_count": 1,
   "id": "a0908a20",
   "metadata": {},
   "outputs": [],
   "source": [
    "import pandas as pd"
   ]
  },
  {
   "cell_type": "code",
   "execution_count": 11,
   "id": "979f3f0a",
   "metadata": {},
   "outputs": [
    {
     "data": {
      "text/plain": [
       "['matematicas', 'fisica', 'historia']"
      ]
     },
     "execution_count": 11,
     "metadata": {},
     "output_type": "execute_result"
    }
   ],
   "source": [
    "asignaturas = ['matematicas','fisica','historia']\n",
    "asignaturas"
   ]
  },
  {
   "cell_type": "code",
   "execution_count": 12,
   "id": "3c463eb9",
   "metadata": {},
   "outputs": [
    {
     "data": {
      "text/plain": [
       "[9, 9, 8]"
      ]
     },
     "execution_count": 12,
     "metadata": {},
     "output_type": "execute_result"
    }
   ],
   "source": [
    "notas = [9,9,8]\n",
    "notas"
   ]
  },
  {
   "cell_type": "code",
   "execution_count": 13,
   "id": "1a6cf7c0",
   "metadata": {},
   "outputs": [
    {
     "data": {
      "text/plain": [
       "matematicas    9\n",
       "fisica         9\n",
       "historia       8\n",
       "dtype: int64"
      ]
     },
     "execution_count": 13,
     "metadata": {},
     "output_type": "execute_result"
    }
   ],
   "source": [
    "serie = pd.Series(data=notas, index=asignaturas)\n",
    "serie"
   ]
  },
  {
   "cell_type": "code",
   "execution_count": 14,
   "id": "f31d2a4d",
   "metadata": {},
   "outputs": [],
   "source": [
    "notas_fisica = serie['fisica']"
   ]
  },
  {
   "cell_type": "code",
   "execution_count": 15,
   "id": "1c67e28a",
   "metadata": {},
   "outputs": [
    {
     "name": "stdout",
     "output_type": "stream",
     "text": [
      "La nota de fisica es un 9\n"
     ]
    }
   ],
   "source": [
    "print(\"La nota de fisica es un {}\".format(notas_fisica))"
   ]
  },
  {
   "cell_type": "code",
   "execution_count": null,
   "id": "35f7a11d",
   "metadata": {},
   "outputs": [],
   "source": []
  }
 ],
 "metadata": {
  "kernelspec": {
   "display_name": "Python 3",
   "language": "python",
   "name": "python3"
  },
  "language_info": {
   "codemirror_mode": {
    "name": "ipython",
    "version": 3
   },
   "file_extension": ".py",
   "mimetype": "text/x-python",
   "name": "python",
   "nbconvert_exporter": "python",
   "pygments_lexer": "ipython3",
   "version": "3.8.8"
  }
 },
 "nbformat": 4,
 "nbformat_minor": 5
}
