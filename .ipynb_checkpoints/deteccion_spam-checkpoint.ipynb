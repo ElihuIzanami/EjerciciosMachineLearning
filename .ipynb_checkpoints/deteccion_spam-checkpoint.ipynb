{
 "cells": [
  {
   "cell_type": "code",
   "execution_count": 1,
   "id": "6cacc285",
   "metadata": {},
   "outputs": [],
   "source": [
    "import nltk"
   ]
  },
  {
   "cell_type": "code",
   "execution_count": 2,
   "id": "49e99e8e",
   "metadata": {},
   "outputs": [
    {
     "name": "stdout",
     "output_type": "stream",
     "text": [
      " El volumen de la unidad C no tiene etiqueta.\n",
      " El n£mero de serie del volumen es: E8C6-2F5C\n",
      "\n",
      " Directorio de C:\\Users\\Administrador\\Documents\\MachineLearninBasico\n",
      "\n",
      "07/08/2022  14:02    <DIR>          .\n",
      "07/08/2022  14:02    <DIR>          ..\n",
      "07/08/2022  14:00    <DIR>          .ipynb_checkpoints\n",
      "26/07/2022  21:22            10.004 agrupacion_columna.ipynb\n",
      "07/08/2022  09:50             9.193 areboles_descicion.ipynb\n",
      "25/07/2022  21:34             3.690 array_dos_dimensiones.ipynb\n",
      "25/07/2022  21:12             4.700 array_una_dimension.ipynb\n",
      "25/07/2022  20:37             1.922 cambio_tamanio_array.ipynb\n",
      "26/07/2022  21:49             9.283 combinar_dataframe.ipynb\n",
      "26/07/2022  08:54            25.442 dataframe.ipynb\n",
      "27/07/2022  09:42             4.655 dataframe_sql.ipynb\n",
      "07/08/2022  14:02               755 deteccion_spam.ipynb\n",
      "27/07/2022  09:09             5.508 Ejemplo_excel.xlsx\n",
      "05/08/2022  20:55           223.127 ejemplo_regresion_logica.ipynb\n",
      "29/07/2022  08:07           153.920 ejemplos_matplotlib.ipynb\n",
      "07/08/2022  13:44            87.104 ejercicio_k_medias.ipynb\n",
      "31/07/2022  11:00           172.687 ejercicio_regresion_lineal.ipynb\n",
      "25/07/2022  21:57             2.102 ejercicio1.ipynb\n",
      "28/07/2022  08:59             2.476 ejercicio1_pandas.ipynb\n",
      "28/07/2022  09:43             6.967 ejercicio2_pandas.ipynb\n",
      "30/07/2022  08:37            60.470 estilos_colores_seaborn.ipynb\n",
      "27/07/2022  09:23             8.716 ficheros_csv_excel.ipynb\n",
      "25/07/2022  20:16             7.051 funciones.ipynb\n",
      "29/07/2022  09:33           183.627 graficos_categorias.ipynb\n",
      "29/07/2022  09:01           419.961 graficos_distribucion.ipynb\n",
      "27/07/2022  12:11           303.087 graficos_pandas.ipynb\n",
      "30/07/2022  08:22           244.543 graficos_regresion.ipynb\n",
      "27/07/2022  08:04             6.524 join.ipynb\n",
      "06/08/2022  09:00            43.718 k_vecinos_cercanos.ipynb\n",
      "27/07/2022  09:25             8.662 leer_web.ipynb\n",
      "29/07/2022  11:10            69.175 mapa_calor.ipynb\n",
      "07/08/2022  11:04           230.789 maquina_vectores_soporte.ipynb\n",
      "25/07/2022  20:49             2.944 maximos_minimos_array.ipynb\n",
      "26/07/2022  22:20             6.573 merge_dataframe.ipynb\n",
      "26/07/2022  13:34            11.484 modificacion_filas.ipynb\n",
      "28/07/2022  18:13               605 multigraficos.ipynb\n",
      "25/07/2022  20:21             2.599 numeros_aleatorios_numpy.ipynb\n",
      "25/07/2022  20:23             1.428 numeros_enteros_aleatorios_numpy.ipynb\n",
      "25/07/2022  19:45             2.343 numpy_listas.ipynb\n",
      "25/07/2022  21:53             5.186 operaciones_arrays.ipynb\n",
      "30/07/2022  08:07           368.927 pairgrid_facetgrid.ipynb\n",
      "31/07/2022  07:20             2.448 plotly.ipynb\n",
      "07/08/2022  10:08            24.092 random_forest.ipynb\n",
      "27/07/2022  09:17             5.565 salida_excel.xlsx\n",
      "25/07/2022  21:44             3.190 seleccion_condicion.ipynb\n",
      "26/07/2022  09:55            11.473 seleccion_datos_pandas.ipynb\n",
      "26/07/2022  08:20             3.959 series_pandas.ipynb\n",
      "15/03/2011  23:36           477.907 SMSSpamCollection\n",
      "31/07/2022  18:32            61.194 train.csv\n",
      "07/08/2022  11:04                72 Untitled.ipynb\n",
      "07/08/2022  13:59                72 Untitled1.ipynb\n",
      "31/07/2022  07:35           726.209 USA_Housing.csv\n",
      "26/07/2022  20:50            11.238 valores_nulos.ipynb\n",
      "05/08/2022  21:27            86.768 vehiculos.csv\n",
      "06/08/2022  09:01            12.895 vino.csv\n",
      "              52 archivos      4.139.029 bytes\n",
      "               3 dirs  498.857.287.680 bytes libres\n"
     ]
    }
   ],
   "source": [
    "ls"
   ]
  },
  {
   "cell_type": "code",
   "execution_count": null,
   "id": "1a411aa5",
   "metadata": {},
   "outputs": [],
   "source": [
    "mensajes = [line.rstrip() for line in open('MachineLearninBasico/SMSSpamCollection')]"
   ]
  }
 ],
 "metadata": {
  "kernelspec": {
   "display_name": "Python 3 (ipykernel)",
   "language": "python",
   "name": "python3"
  },
  "language_info": {
   "codemirror_mode": {
    "name": "ipython",
    "version": 3
   },
   "file_extension": ".py",
   "mimetype": "text/x-python",
   "name": "python",
   "nbconvert_exporter": "python",
   "pygments_lexer": "ipython3",
   "version": "3.9.12"
  }
 },
 "nbformat": 4,
 "nbformat_minor": 5
}
