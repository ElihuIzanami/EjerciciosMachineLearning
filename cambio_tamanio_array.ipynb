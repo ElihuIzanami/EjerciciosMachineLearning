{
 "cells": [
  {
   "cell_type": "code",
   "execution_count": 1,
   "id": "2fe40503",
   "metadata": {},
   "outputs": [],
   "source": [
    "import numpy as np"
   ]
  },
  {
   "cell_type": "code",
   "execution_count": 6,
   "id": "26f5bbd2",
   "metadata": {},
   "outputs": [],
   "source": [
    "array = np.random.randint(1,100,21)"
   ]
  },
  {
   "cell_type": "code",
   "execution_count": 3,
   "id": "fdc52581",
   "metadata": {},
   "outputs": [
    {
     "data": {
      "text/plain": [
       "array([40, 48, 47, 84, 74, 88, 33, 54, 25, 98, 78, 44, 16, 50, 63, 86, 71,\n",
       "       75, 15, 37, 82, 18, 56, 30, 58])"
      ]
     },
     "execution_count": 3,
     "metadata": {},
     "output_type": "execute_result"
    }
   ],
   "source": [
    "array"
   ]
  },
  {
   "cell_type": "code",
   "execution_count": 7,
   "id": "4ec6e82b",
   "metadata": {},
   "outputs": [
    {
     "data": {
      "text/plain": [
       "array([[94, 19, 36],\n",
       "       [47, 40, 53],\n",
       "       [68, 21, 51],\n",
       "       [84, 41,  5],\n",
       "       [34, 87, 79],\n",
       "       [11, 87, 68],\n",
       "       [32, 22, 39]])"
      ]
     },
     "execution_count": 7,
     "metadata": {},
     "output_type": "execute_result"
    }
   ],
   "source": [
    "matriz = array.reshape(7,3)\n",
    "matriz"
   ]
  },
  {
   "cell_type": "code",
   "execution_count": null,
   "id": "6ae043d7",
   "metadata": {},
   "outputs": [],
   "source": []
  }
 ],
 "metadata": {
  "kernelspec": {
   "display_name": "Python 3",
   "language": "python",
   "name": "python3"
  },
  "language_info": {
   "codemirror_mode": {
    "name": "ipython",
    "version": 3
   },
   "file_extension": ".py",
   "mimetype": "text/x-python",
   "name": "python",
   "nbconvert_exporter": "python",
   "pygments_lexer": "ipython3",
   "version": "3.8.8"
  }
 },
 "nbformat": 4,
 "nbformat_minor": 5
}
