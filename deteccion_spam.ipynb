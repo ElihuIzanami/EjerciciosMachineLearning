{
 "cells": [
  {
   "cell_type": "code",
   "execution_count": null,
   "id": "22ea788c",
   "metadata": {},
   "outputs": [],
   "source": [
    "import nltk"
   ]
  },
  {
   "cell_type": "code",
   "execution_count": null,
   "id": "c0211dc7",
   "metadata": {},
   "outputs": [],
   "source": [
    "mensajes = [line.rstrip() for line in open('SMSSpamCollection')]"
   ]
  },
  {
   "cell_type": "code",
   "execution_count": null,
   "id": "b1414af4",
   "metadata": {},
   "outputs": [],
   "source": [
    "mensajes[0]"
   ]
  },
  {
   "cell_type": "code",
   "execution_count": null,
   "id": "73d13c5b",
   "metadata": {},
   "outputs": [],
   "source": [
    "mensajes[1]"
   ]
  },
  {
   "cell_type": "code",
   "execution_count": null,
   "id": "d392955e",
   "metadata": {},
   "outputs": [],
   "source": [
    "print(len(mensajes))"
   ]
  },
  {
   "cell_type": "code",
   "execution_count": null,
   "id": "d6634620",
   "metadata": {},
   "outputs": [],
   "source": [
    "for mensaje in enumerate(mensajes[5:]):\n",
    "    print(mensaje)"
   ]
  },
  {
   "cell_type": "code",
   "execution_count": null,
   "id": "39325676",
   "metadata": {},
   "outputs": [],
   "source": [
    "import pandas as pd"
   ]
  },
  {
   "cell_type": "code",
   "execution_count": null,
   "id": "ef3c08db",
   "metadata": {},
   "outputs": [],
   "source": [
    "mensajes_dataframe = pd.read_csv('SMSSpamCollection', sep=\"\\t\", names=[\"etiqueta\",\"mensaje\"])"
   ]
  },
  {
   "cell_type": "code",
   "execution_count": null,
   "id": "921dc152",
   "metadata": {},
   "outputs": [],
   "source": [
    "mensajes_dataframe.head(10)"
   ]
  },
  {
   "cell_type": "code",
   "execution_count": null,
   "id": "907b0c09",
   "metadata": {},
   "outputs": [],
   "source": [
    "mensajes_dataframe['longitud'] = mensajes_dataframe[\"mensaje\"].apply(len)"
   ]
  },
  {
   "cell_type": "code",
   "execution_count": null,
   "id": "6eae3c08",
   "metadata": {},
   "outputs": [],
   "source": [
    "mensajes_dataframe.head()"
   ]
  },
  {
   "cell_type": "code",
   "execution_count": null,
   "id": "b38c943c",
   "metadata": {},
   "outputs": [],
   "source": [
    "import matplotlib.pyplot as plt\n",
    "import seaborn as sns"
   ]
  },
  {
   "cell_type": "code",
   "execution_count": null,
   "id": "26d8dda5",
   "metadata": {},
   "outputs": [],
   "source": [
    "mensajes_dataframe['longitud'].plot.hist(bins=200)"
   ]
  },
  {
   "cell_type": "code",
   "execution_count": null,
   "id": "96aef37a",
   "metadata": {},
   "outputs": [],
   "source": [
    "mensajes_dataframe['longitud'].describe()"
   ]
  },
  {
   "cell_type": "code",
   "execution_count": null,
   "id": "3ef29dbb",
   "metadata": {},
   "outputs": [],
   "source": [
    "mensajes_dataframe[mensajes_dataframe['longitud'] == 910][\"mensaje\"].iloc[0]"
   ]
  },
  {
   "cell_type": "code",
   "execution_count": null,
   "id": "9a69b12a",
   "metadata": {},
   "outputs": [],
   "source": [
    "mensajes_dataframe.hist(column='longitud', by='etiqueta', bins=100, figsize=(10,5))"
   ]
  },
  {
   "cell_type": "markdown",
   "id": "918eaa91",
   "metadata": {},
   "source": [
    "# Procesamineto de Textos"
   ]
  },
  {
   "cell_type": "code",
   "execution_count": null,
   "id": "42ea74e7",
   "metadata": {},
   "outputs": [],
   "source": [
    "import string"
   ]
  },
  {
   "cell_type": "code",
   "execution_count": null,
   "id": "cacb8b17",
   "metadata": {},
   "outputs": [],
   "source": [
    "cadena = 'Mensaje de Ejemplo! Nota: Esta nota tiene signos de puntuacion'"
   ]
  },
  {
   "cell_type": "code",
   "execution_count": null,
   "id": "0c3af2a2",
   "metadata": {},
   "outputs": [],
   "source": [
    "cadena"
   ]
  },
  {
   "cell_type": "code",
   "execution_count": null,
   "id": "546cc134",
   "metadata": {},
   "outputs": [],
   "source": [
    "string.punctuation"
   ]
  },
  {
   "cell_type": "code",
   "execution_count": null,
   "id": "4700e40c",
   "metadata": {},
   "outputs": [],
   "source": [
    "sinpuntuacion = [c for c in cadena if c not in string.punctuation]"
   ]
  },
  {
   "cell_type": "code",
   "execution_count": null,
   "id": "9edf9e65",
   "metadata": {},
   "outputs": [],
   "source": [
    "sinpuntuacion = ''.join(sinpuntuacion)"
   ]
  },
  {
   "cell_type": "code",
   "execution_count": null,
   "id": "f750fa7c",
   "metadata": {},
   "outputs": [],
   "source": [
    "sinpuntuacion"
   ]
  },
  {
   "cell_type": "code",
   "execution_count": null,
   "id": "a512fb0a",
   "metadata": {},
   "outputs": [],
   "source": [
    "from nltk.corpus import stopwords"
   ]
  },
  {
   "cell_type": "code",
   "execution_count": null,
   "id": "dbc6ff1d",
   "metadata": {},
   "outputs": [],
   "source": [
    "import nltk\n",
    "nltk.download('stopwords')"
   ]
  }
 ],
 "metadata": {
  "kernelspec": {
   "display_name": "Python 3 (ipykernel)",
   "language": "python",
   "name": "python3"
  },
  "language_info": {
   "codemirror_mode": {
    "name": "ipython",
    "version": 3
   },
   "file_extension": ".py",
   "mimetype": "text/x-python",
   "name": "python",
   "nbconvert_exporter": "python",
   "pygments_lexer": "ipython3",
   "version": "3.9.12"
  }
 },
 "nbformat": 4,
 "nbformat_minor": 5
}
